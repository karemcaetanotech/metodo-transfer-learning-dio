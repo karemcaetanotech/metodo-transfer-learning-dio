{
  "nbformat": 4,
  "nbformat_minor": 0,
  "metadata": {
    "colab": {
      "provenance": []
    },
    "kernelspec": {
      "name": "python3",
      "display_name": "Python 3"
    },
    "language_info": {
      "name": "python"
    }
  },
  "cells": [
    {
      "cell_type": "code",
      "source": [
        "\n",
        "from google.colab import drive\n",
        "drive.mount('/content/drive')\n",
        "\n",
        "import os, shutil, pathlib, tensorflow as tf\n",
        "from tensorflow.keras import layers, models\n",
        "from tensorflow.keras.applications.mobilenet_v2 import MobileNetV2, preprocess_input\n",
        "\n",
        "IMG_SIZE = (224, 224)\n",
        "BATCH = 32\n",
        "SEED = 1337\n",
        "\n",
        "# 1) Tente achar um dataset no seu Drive com >=2 subpastas de classe\n",
        "CANDIDATES = [\n",
        "    \"/content/drive/MyDrive/tl_data\",           # recomendado\n",
        "    \"/content/drive/MyDrive/mydriveface\",     # sua pasta antiga\n",
        "    \"/content/drive/MyDrive/dataset_recomendacao\"\n",
        "]\n",
        "def has_two_classes(root):\n",
        "    p = pathlib.Path(root)\n",
        "    if not p.exists(): return False\n",
        "    sub = [d for d in p.iterdir() if d.is_dir()]\n",
        "    cls = 0\n",
        "    for d in sub:\n",
        "        n = sum(1 for x in d.rglob('*') if x.suffix.lower() in {'.jpg','.jpeg','.png'})\n",
        "        if n > 0: cls += 1\n",
        "    return cls >= 2\n",
        "\n",
        "ds_root = None\n",
        "for c in CANDIDATES:\n",
        "    if has_two_classes(c):\n",
        "        ds_root = c; break\n",
        "\n",
        "# 2) Se não achou 2 classes, baixa exemplo (roses vs tulips)\n",
        "if ds_root is None:\n",
        "    print(\"⚠️ Não encontrei dataset com 2 classes no Drive. Baixando exemplo (roses × tulips)...\")\n",
        "    url = \"https://storage.googleapis.com/download.tensorflow.org/example_images/flower_photos.tgz\"\n",
        "    path = tf.keras.utils.get_file(\"flower_photos\", origin=url, untar=True)\n",
        "    base = pathlib.Path(path)\n",
        "    tmp = \"/content/tl_data_flowers\"\n",
        "    os.makedirs(tmp, exist_ok=True)\n",
        "    for cls in [\"roses\", \"tulips\"]:\n",
        "        shutil.copytree(base/cls, pathlib.Path(tmp)/cls, dirs_exist_ok=True)\n",
        "    ds_root = tmp\n",
        "\n",
        "print(\"📂 Usando dataset em:\", ds_root)\n",
        "\n",
        "# 3) Datasets (80/20) — binário\n",
        "train_ds = tf.keras.utils.image_dataset_from_directory(\n",
        "    ds_root, validation_split=0.2, subset=\"training\", seed=SEED,\n",
        "    image_size=IMG_SIZE, batch_size=BATCH, label_mode=\"binary\")\n",
        "\n",
        "val_ds = tf.keras.utils.image_dataset_from_directory(\n",
        "    ds_root, validation_split=0.2, subset=\"validation\", seed=SEED,\n",
        "    image_size=IMG_SIZE, batch_size=BATCH, label_mode=\"binary\")\n",
        "\n",
        "print(\"Classes:\", train_ds.class_names)\n",
        "AUTOTUNE = tf.data.AUTOTUNE\n",
        "train_ds = train_ds.prefetch(AUTOTUNE)\n",
        "val_ds   = val_ds.prefetch(AUTOTUNE)\n",
        "\n",
        "# 4) Modelo pré-treinado (MobileNetV2) + cabeça nova\n",
        "base = MobileNetV2(input_shape=IMG_SIZE+(3,), include_top=False, weights=\"imagenet\")\n",
        "base.trainable = False\n",
        "\n",
        "inp = layers.Input(shape=IMG_SIZE+(3,))\n",
        "x = preprocess_input(inp)\n",
        "x = base(x, training=False)\n",
        "x = layers.GlobalAveragePooling2D()(x)\n",
        "out = layers.Dense(1, activation=\"sigmoid\")(x)  # 2 classes\n",
        "\n",
        "model = models.Model(inp, out)\n",
        "model.compile(optimizer=\"adam\", loss=\"binary_crossentropy\", metrics=[\"accuracy\"])\n",
        "model.summary()\n",
        "\n",
        "# 5) Treino rápido\n",
        "history = model.fit(train_ds, validation_data=val_ds, epochs=5)\n",
        "\n",
        "# 6) Teste com upload de 1 imagem\n",
        "from google.colab import files\n",
        "from tensorflow.keras.preprocessing import image\n",
        "import numpy as np\n",
        "\n",
        "print(\"Envie uma imagem para testar…\")\n",
        "up = files.upload()\n",
        "img_path = list(up.keys())[0]\n",
        "img = image.load_img(img_path, target_size=IMG_SIZE)\n",
        "arr = image.img_to_array(img)[None, ...]\n",
        "arr = preprocess_input(arr)\n",
        "p = float(model.predict(arr, verbose=0)[0][0])\n",
        "pred = train_ds.class_names[int(p > 0.5)]\n",
        "print(f\"Predição: {pred}  |  score={p:.3f}\")\n"
      ],
      "metadata": {
        "colab": {
          "base_uri": "https://localhost:8080/",
          "height": 367
        },
        "id": "CxjywS_ZXFE7",
        "outputId": "4dd4c63b-d0b2-49ba-900b-5b1f0cebde5e"
      },
      "execution_count": 5,
      "outputs": [
        {
          "output_type": "stream",
          "name": "stdout",
          "text": [
            "Drive already mounted at /content/drive; to attempt to forcibly remount, call drive.mount(\"/content/drive\", force_remount=True).\n",
            "⚠️ Não encontrei dataset com 2 classes no Drive. Baixando exemplo (roses × tulips)...\n"
          ]
        },
        {
          "output_type": "error",
          "ename": "FileNotFoundError",
          "evalue": "[Errno 2] No such file or directory: '/root/.keras/datasets/flower_photos/roses'",
          "traceback": [
            "\u001b[0;31m---------------------------------------------------------------------------\u001b[0m",
            "\u001b[0;31mFileNotFoundError\u001b[0m                         Traceback (most recent call last)",
            "\u001b[0;32m/tmp/ipython-input-1318473023.py\u001b[0m in \u001b[0;36m<cell line: 0>\u001b[0;34m()\u001b[0m\n\u001b[1;32m     40\u001b[0m     \u001b[0mos\u001b[0m\u001b[0;34m.\u001b[0m\u001b[0mmakedirs\u001b[0m\u001b[0;34m(\u001b[0m\u001b[0mtmp\u001b[0m\u001b[0;34m,\u001b[0m \u001b[0mexist_ok\u001b[0m\u001b[0;34m=\u001b[0m\u001b[0;32mTrue\u001b[0m\u001b[0;34m)\u001b[0m\u001b[0;34m\u001b[0m\u001b[0;34m\u001b[0m\u001b[0m\n\u001b[1;32m     41\u001b[0m     \u001b[0;32mfor\u001b[0m \u001b[0mcls\u001b[0m \u001b[0;32min\u001b[0m \u001b[0;34m[\u001b[0m\u001b[0;34m\"roses\"\u001b[0m\u001b[0;34m,\u001b[0m \u001b[0;34m\"tulips\"\u001b[0m\u001b[0;34m]\u001b[0m\u001b[0;34m:\u001b[0m\u001b[0;34m\u001b[0m\u001b[0;34m\u001b[0m\u001b[0m\n\u001b[0;32m---> 42\u001b[0;31m         \u001b[0mshutil\u001b[0m\u001b[0;34m.\u001b[0m\u001b[0mcopytree\u001b[0m\u001b[0;34m(\u001b[0m\u001b[0mbase\u001b[0m\u001b[0;34m/\u001b[0m\u001b[0mcls\u001b[0m\u001b[0;34m,\u001b[0m \u001b[0mpathlib\u001b[0m\u001b[0;34m.\u001b[0m\u001b[0mPath\u001b[0m\u001b[0;34m(\u001b[0m\u001b[0mtmp\u001b[0m\u001b[0;34m)\u001b[0m\u001b[0;34m/\u001b[0m\u001b[0mcls\u001b[0m\u001b[0;34m,\u001b[0m \u001b[0mdirs_exist_ok\u001b[0m\u001b[0;34m=\u001b[0m\u001b[0;32mTrue\u001b[0m\u001b[0;34m)\u001b[0m\u001b[0;34m\u001b[0m\u001b[0;34m\u001b[0m\u001b[0m\n\u001b[0m\u001b[1;32m     43\u001b[0m     \u001b[0mds_root\u001b[0m \u001b[0;34m=\u001b[0m \u001b[0mtmp\u001b[0m\u001b[0;34m\u001b[0m\u001b[0;34m\u001b[0m\u001b[0m\n\u001b[1;32m     44\u001b[0m \u001b[0;34m\u001b[0m\u001b[0m\n",
            "\u001b[0;32m/usr/lib/python3.12/shutil.py\u001b[0m in \u001b[0;36mcopytree\u001b[0;34m(src, dst, symlinks, ignore, copy_function, ignore_dangling_symlinks, dirs_exist_ok)\u001b[0m\n\u001b[1;32m    596\u001b[0m     \"\"\"\n\u001b[1;32m    597\u001b[0m     \u001b[0msys\u001b[0m\u001b[0;34m.\u001b[0m\u001b[0maudit\u001b[0m\u001b[0;34m(\u001b[0m\u001b[0;34m\"shutil.copytree\"\u001b[0m\u001b[0;34m,\u001b[0m \u001b[0msrc\u001b[0m\u001b[0;34m,\u001b[0m \u001b[0mdst\u001b[0m\u001b[0;34m)\u001b[0m\u001b[0;34m\u001b[0m\u001b[0;34m\u001b[0m\u001b[0m\n\u001b[0;32m--> 598\u001b[0;31m     \u001b[0;32mwith\u001b[0m \u001b[0mos\u001b[0m\u001b[0;34m.\u001b[0m\u001b[0mscandir\u001b[0m\u001b[0;34m(\u001b[0m\u001b[0msrc\u001b[0m\u001b[0;34m)\u001b[0m \u001b[0;32mas\u001b[0m \u001b[0mitr\u001b[0m\u001b[0;34m:\u001b[0m\u001b[0;34m\u001b[0m\u001b[0;34m\u001b[0m\u001b[0m\n\u001b[0m\u001b[1;32m    599\u001b[0m         \u001b[0mentries\u001b[0m \u001b[0;34m=\u001b[0m \u001b[0mlist\u001b[0m\u001b[0;34m(\u001b[0m\u001b[0mitr\u001b[0m\u001b[0;34m)\u001b[0m\u001b[0;34m\u001b[0m\u001b[0;34m\u001b[0m\u001b[0m\n\u001b[1;32m    600\u001b[0m     return _copytree(entries=entries, src=src, dst=dst, symlinks=symlinks,\n",
            "\u001b[0;31mFileNotFoundError\u001b[0m: [Errno 2] No such file or directory: '/root/.keras/datasets/flower_photos/roses'"
          ]
        }
      ]
    }
  ]
}